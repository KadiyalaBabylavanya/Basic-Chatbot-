{
 "cells": [
  {
   "cell_type": "code",
   "execution_count": 9,
   "metadata": {},
   "outputs": [
    {
     "name": "stderr",
     "output_type": "stream",
     "text": [
      "[nltk_data] Downloading package punkt to\n",
      "[nltk_data]     C:\\Users\\z00505yf\\AppData\\Roaming\\nltk_data...\n",
      "[nltk_data]   Package punkt is already up-to-date!\n",
      "[nltk_data] Downloading package wordnet to\n",
      "[nltk_data]     C:\\Users\\z00505yf\\AppData\\Roaming\\nltk_data...\n",
      "[nltk_data]   Package wordnet is already up-to-date!\n",
      "[nltk_data] Downloading package averaged_perceptron_tagger to\n",
      "[nltk_data]     C:\\Users\\z00505yf\\AppData\\Roaming\\nltk_data...\n",
      "[nltk_data]   Package averaged_perceptron_tagger is already up-to-\n",
      "[nltk_data]       date!\n"
     ]
    },
    {
     "data": {
      "text/plain": [
       "True"
      ]
     },
     "execution_count": 9,
     "metadata": {},
     "output_type": "execute_result"
    }
   ],
   "source": [
    "import nltk\n",
    "import wikipedia as wk\n",
    "import random\n",
    "import string\n",
    "import re\n",
    "import unicodedata #turning accented characters into plain ones\n",
    "from nltk.corpus import wordnet as wn \n",
    "from nltk.stem.wordnet import WordNetLemmatizer #A lemmatizer changes words to their base form.\n",
    "from collections import defaultdict\n",
    "import warnings\n",
    "from sklearn.feature_extraction.text import TfidfVectorizer\n",
    "from sklearn.metrics.pairwise import cosine_similarity,linear_kernel #These measure how similar two sentences are.\n",
    "\n",
    "warnings.filterwarnings(action='ignore',category=UserWarning, module=\"wikipedia\")\n",
    "nltk.download('punkt') #split a paragraph into sentences and split sentences into words.\n",
    "nltk.download('wordnet') #finding meanings of words, synonyms, and lemmatization \n",
    "nltk.download('averaged_perceptron_tagger') #helps the chatbot know what part of speech each word is — noun, verb, adjective, etc.\n"
   ]
  },
  {
   "cell_type": "code",
   "execution_count": 10,
   "metadata": {},
   "outputs": [
    {
     "name": "stdout",
     "output_type": "stream",
     "text": [
      "C:\\Users\\z00505yf\\AppData\\Roaming\\nltk_data\\taggers\\averaged_perceptron_tagger\n"
     ]
    }
   ],
   "source": [
    "import nltk\n",
    "nltk.data.path.append(\"C:/Users/z00505yf/nltk_data\")\n",
    "print(nltk.data.find('taggers/averaged_perceptron_tagger/'))"
   ]
  },
  {
   "cell_type": "code",
   "execution_count": 11,
   "metadata": {},
   "outputs": [],
   "source": [
    "data = open('HR.txt','r',errors='ignore')\n",
    "raw=data.read()\n",
    "raw=raw.lower()"
   ]
  },
  {
   "cell_type": "code",
   "execution_count": 12,
   "metadata": {},
   "outputs": [
    {
     "name": "stderr",
     "output_type": "stream",
     "text": [
      "[nltk_data] Downloading package punkt_tab to\n",
      "[nltk_data]     C:\\Users\\z00505yf\\AppData\\Roaming\\nltk_data...\n",
      "[nltk_data]   Package punkt_tab is already up-to-date!\n"
     ]
    }
   ],
   "source": [
    "nltk.download('punkt_tab')\n",
    "sent_tokens=nltk.sent_tokenize(raw)"
   ]
  },
  {
   "cell_type": "code",
   "execution_count": 13,
   "metadata": {},
   "outputs": [
    {
     "name": "stdout",
     "output_type": "stream",
     "text": [
      "['human resource analytics is at the intersection of three bodies of knowledge:\\n\\nhuman resource management: sets the meaning and purpose of the analytics.', 'data warehousing: knowing how to process and store hr data efficiently, automation of  collection of data and cleaning data.', 'statistical analysis, presentation and interpretation : helps in translating the identified hr  issues into appropriate analyses and communication of results.', '5 fundamental principles of analytics\\n\\nhr analytics is about metrics and measurement.', 'good metrics definitions, both narrative and formulaic, and their documentation are key.', 'a professional and good hr analytics person will have the above bodies of knowledge and know their process and intersection.', 'good communication and collaborative skills are essential.', 'the in-depth expertise in your organization is likely to exist in hrm.', 'it.', 'and decision support.', 'you will need to collaborate with these groups.', 'the extent of hr analytics can be vast.', 'having a defined model or framework can help you navigate towards your future efforts.', 'patience is key.', 'while quality preparation of metrics is important, the real value is in the analysis and interpretation.', 'specialists analytics in high demand for hr roles: study\\n\\net bureau -may 14, 2018\\n\\nindia has seen 77% growth in specialized analytics professionals employed in human resource functions in the past five years, as an increasing number of companies are turning to analytics to address workforce planning, skills gap and employee retention, according to a study by professional network linkedin.', 'â€œthe overall business landscape and the changing role of human resource as a more strategic partner in business are driving the rise of analytics in hr.', 'it is imperative for human resource today to give more strategic inputs in business and build a data-driven human resource management function,â€ said irfan abdulla, director-linkedin talent solutions and learning solutions, india and south asia.', 'compensation and benefits, talent acquisition, talent development and productivity are the established focus areas for use of analytics in the asia-pacific region.', 'in india, 14% of total jobs in human resource management are analytics based, signifying that companies are increasingly trying to arm their hr functions with analytical capabilities with talent as their focus area, shows the report, titled the rise of analytics in human resource management: an era of talent intelligence.', 'rights of an employee\\n\\n\\n\\nright against discrimination at workplace\\n\\nit is a right of every citizen of india to be treated without any discrimination.', 'according to article 16 (2) of the indian constitution, no citizen can be discriminated against, or be ineligible for any employment or office under the state, on the grounds only of religion, race, caste, sex, descent, place of birth or residence or any of them.', 'adherence to the rule of equality in public employment is a being feature of indian constitution and the rule of law is its core, the court cannot disable itself from making an order inconsistent with article 14 and 16 of the indian constitution.', 'in the united states, title ii of the civil rights act, 1964 prohibits discrimination of people on certain grounds.', 'in this regard, employers implement equal employment opportunity policies and prohibit discrimination based on race of a person, colour, sex, religious creed, nationality, age, ancestry, marital status, disability, medical condition, genetic characteristics ( of those of a family member), political affiliation, et cetera.', 'the equality act, 2010 of the united kingdom prohibits discrimination and mandates equal treatment in matters of employment as well as private and public services irrespective of race, age, sex, religion or disability .', 'scheduled castes and tribes ( prevention of atrocities) act, 1989 is constituted as a social justice oriented law, which is enacted to prevent atrocities and other form of derogatory behaviour towards member of the scheduled caste and scheduled tribes.', 'according to the recent supreme court judgment in section 377 of indian penal code 1860, lgbtq ( lesbian, gay, bisexual and transgender queer) shall not be shown discrimination or derogate them in any manner.', 'equal pay for equal work\\n\\nit is an employee right though equal pay for equal work is not expressly declared by the constitution as a fundamental right that in view of the directive principles of state policy as contained in the article 39(d) of the indian constitution \"equal pay for equal work\" has assumed the status of fundamental right.', 'according to article 39(d) of the indian constitution, the state has to ensure that there is equal pay for equal work for both men and women.', 'parliament has enacted the equal remuneration act, 1976, to implement article 39(d).', 'the act provides for payment of equal remuneration to men and women workers for the same work, or work of a similar nature and for the prevention of discrimination on grounds of sex.', 'the act also ensures that there will be no discrimination against recruitment of woman and provides for the setting up of a advisory committee to promote employment opportunities for women.', 'it is the duty of hr department and hr managers to see that there is no such violation which is unconstitutional, therefore it should be complied by the every organization.', 'supreme court - case law \\n\\njaipal vs state of haryana, air 1988 sc 1504, at 1509:\\n\\nthe court has enunciated the doctrine as follows:\\n\\nthe doctrine of equal work for equal pay would apply on the premises of similar work but it does not mean that there be  complete identity in all respects.', 'if the two classes of persons do some work under the same employer, with similar responsibility, under similar working conditions, the doctrine of equal work equality would apply and it would not be open to the state to discriminate one class with the other in paying salary.', 'federation of a.i custom and central excise stenographers (recog) vs union of india.', 'air 1988 sc 1291: (1988) 3 scc 91\\n\\nthe supreme court has emphasized that equality must depend on the nature of work done and not mere volume of work as they may be quantitative differences as regards reliability and responsibility.', 'functions may be the same but the responsibilities make a difference.', 'the court further observed:\\n\\n\"the same amount of physical work may entail different quality of work, some more sensitive, some requiring more tact, some less - it varies from nature and culture of employment.', 'the problem about equal pay cannot always be translated into a mathematical formula.....\"\\n\\nworking hours\\n\\nit is an employee right to not to work more than 9 hours in any day or 48 hours in any week in the factory.', 'there should be interval or break for rest for at least 30 minutes after five hours continuous work of an employee according to the factories act 1948.  the same right is applicable to the employees working in the shops and establishments like hotels, movie theatres and amusement and entertainment establishments according to the concerned state shops and establishment act.', 'weekly holiday\\n\\nit is an employee right to have at least one holiday in a week in the factory or shops and establishments according to the factories act 1948 and shops and establishments act of the concerned state\\n\\nsalary or wage\\n\\naccording to minimum wages act, 1948 it is an employee right to claim for salary or wage for the work done to his employer.', 'it is the duty of the employer to pay remuneration according to the work extracted from his employee.', 'any deductions from the salary or wage of an employee should be made according to the employment laws only.', 'if any employee levied fines or collected or deductions from the salary of an employee, it will be treated as illegal and such employer is liable for legal action.', 'payment for overtime working\\n\\naccording to the factories act 1948., section 59, if a worker works more than nine hours in any day or for more than 48 hours in any week, it is an employee right to claim payment for overtime at the rate of double the ordinary rate of his wage or salary.', 'payment of gratuity\\n\\nthe employee on termination of his employment from the specified establishment becomes entitled for payment of gratuity from his employer provided he has rendered continuous service of not less than five years.', 'the gratuity is payable on superannuation or retirement as well as on resignation of the employee.', 'it is also payable on death or disablement of the employee due to accident or disease.', \"it is an employee right who completes his five years of continuous service in an organisation having 10 or more employees, to claim for payment of gratuity at the rate of 15 days of his current salary for every year of service he or she completed in that organisation, according to the payment of gratuity act, 1972.\\n\\nsection 2(e) of the gratuity act defines the term 'employee' and any person who is employed for wages other than an apprentice is covered by the said definition provided the establishment in which such person is working is covered by the provisions of the said act.\", 'payment of bonus\\n\\naccording to the section-10 of payment of bonus act, 1965, it is an employee right drawing salary of rs.', '21000/- p.m. to claim for payment of minimum bonus that is 8.33% of his salary (his / her salary will be treated as maximum rs.', '7000/- for calculation of bonus) and it is the duty of the employer to pay minimum bonus to their employees irrespective of profit or loss to an organisation during that year.', 'section-11 says maximum percentage of bonus claimable by an employee is 20% in case of profits to an organisation.', 'the procedure for payment of bonus to to employees irrespective of profits or losses to an organisation is mentioned under the payment of bonus act, 1965.\\n\\nprovident fund\\n\\nit is an employee right that whoever employee draws salary not more than â‚¹ 15,000, have social security benefit in the form of provident fund.', \"it is the duty of the employee to contribute 12% from his salary towards provident fund and it is it is the duty of employer or an organisation having 20 or more employees, to contribute equally that is 12% of his salary, according to the employees' provident fund and miscellaneous provisions act 1952.\\n\\naccording to the present rules, if an employer becomes unemployed for one month, such employee can with the 70% of amount from the provident fund.\", 'if an employer becomes unemployed for more than two months such employee can with the total amount from the provident fund.', 'maternity leave\\n\\naccording to the section 5 of the maternity benefit act 1961, it is woman employee right to claim for maternity leave for 26 weeks for 2. such woman employee can apply maternity leave just eight weeks before the date of are expected delivery.', 'it is the duty of employer to pay full salary for a woman employee during her maternity leave for 26 weeks.', 'in case of miscarriage or medical termination of pregnancy, a woman is entitled to live with wage or salary for a period of six weeks immediately following that they offer miscarriage or her medical termination of pregnancy .', 'paternity leave\\n\\nit is male employee right if he is working for the central government of india, he is having right as employee to claim for paternity leave for 15 days within six months from the date of delivery of his child.', 'the central is also being followed in many reputed private organisations and companies in order to boost employee morale and employee satisfaction.', \"compensation in case of accidents, injuries and death of an employee\\n\\naccording to the employee's compensation act 1923 it is an employee right to claim compensation in case of accidents or injuries occurred during the course of employment especially when worker was not under the influence of alcohol.\", 'in case of death of an employee in the course of employment and such employee is not under the influence of alcohol, his or her dependent is having right to claim compensation in accordance with the workers compensation act 1923.\\n\\nworkers participation in the management\\n\\nthe article 43a of the constitution of india, guarantees participation of workers in management of industries.', 'protection against sexual harassment at workplace\\n\\nit is an employee right to be protected against sexual harassment at workplace according to the sexual harassment of women at workplace (prevention, prohibition and redressal) act 2013. for this purpose the organisation with 10 or more employees should constitute internal complaints committee for helping the victims of sexual harassment.', 'such victims are also protected under the section 354 of the indian penal code, by punishing culprit with imprisonment.', 'an incident of sexual harassment of a female at a place of work, amounts to violation of her fundamental right to gender equality under the article 16(2) of the indian constitution.', 'such violation of fundamental rights can be filed before high court of the concern state under article 226 of constitution of india for seeking justice and for punishing such violators.', 'note: any person who is deprived of his rights which are mentioned above, such illegality can be challenged before the court of law and employee whoever commits violation of such rights shall be punishable according to law by the court of law.', \"prevention and dealing with sexual harassment: is a crucial duty of human resource management, otherwise it may effect the organisation's culture and employer branding which would consequently lead to collapse of the organization.\", 'sexual harassment of women at workplace (prevention, prohibition and redressal) act, 2013 protects women at the workplace from sexual harassment.', 'act defines sexual harassment at the work place and creates a mechanism for redressal of complaints.', 'it also provides safeguards against false or malicious charges.', 'every employer is required to constitute an internal complaints committee at each office or branch with 10 or more employees.', 'any employer who fails to constitute an internal complaints committee as per the sexual harassment act shall be liable for a penalty of up to rs.', '50,000 if a complaint is made to the magistrate.', 'any woman employee who has faced sexual harassment at the workplace, or any person authorized by the internal or local complaints committee can file a complaint with the magistrate.', \"repeated non-compliance of this provision can result in the punishment being doubled or even cancellation of the organisation's business license by the concern government or local authority.\", 'the indian penal code 1860 section 354a, 354b,354c, 354d was newly inserted, especially for the following acts which shall be treated as sexual harassment.', 'physical contact and advances involving unwelcome and explicit sexual overtures; or\\n\\ndemand request for sexual favours; or\\n\\nshowing pornography again as the will of a woman; or\\n\\nmaking sexually coloured remarks on women.', \"any man who assaults or uses criminal force to any women or abets such act with the intention of disrobing (taking off oneâ€™s clothes) are compelling her to be naked -section 354b'\\n\\nany man who watches captures images of women engaging in a private act in circumstances where she would usually have the exception are not being observed either by the perpetrator or by any other person.\", '- section 354c\\n\\nfollowing a woman and contacts, or attempts to contact such women repeatedly despite a clear indication of disinterest by such women.- section 354d\\n\\npunishment\\n\\nfor the above said offences the punishment shall be for a period of one to three years of imprisonment or fine, or both\\n\\nfunction of human resource management\\n\\n\\n5 basic (managerial) function of human resource management\\n\\n\\n\\n1. planning - hr\\n\\nplanning is the first and basic function of the management and everything depends upon planning as it is a process of thinking about things before they happen and to make preparations in-advance to deal with them.', 'poor planning results in failure and effects overall system.', 'therefore hr mangers should be aware of when is right time to do things, when things should be done and when things should not be done in order to achieve goals and objectives of the organization.', 'establishing goals and objectives to be achieved through the employees so as to achieve the organizational mission set by the top-level management.', 'developing rules and procedures which has to be followed by the employees in order to avoid any sort of discrimination among the employees in any of their functions, to enable fair and transparent treatment among employees, to avoid conflict starting from recruitment to the separation of employees, inculcate discipline among the employees, to drive performance of employees and ultimately to avoid conflict and contravenes with statutes and employment laws of the land, ultimately for smooth running of the organization.', 'determining plans and forecasting techniques as a part of human resource planning to avoid any shortfall of workforce so as to avoid impact on the output of the organisation, to draw the estimation of workforce exactly needed for the organisation and to plan for attracting talented candidates.', 'hr outsourcing: as that of make or buy decision in operations management, human resource manager should be able to make decisions with regard to hr activities which are to be executed by the management itself or to be outsourced when there is advantage of expertise to bring in and cost-saving for organization.', 'the following are the most outsourced hr activities; legal advice and support, employee payroll, pensions, training and development, recruitment, employee assistance, compensation and benefits, outplacement is, human resource information systems, employee relations, policy-making, strategic partnerships, appraisal of employees and resource planning.', 'most small to medium-sized business owners know the frustration of spending more time than they want on non-revenue generating activities from payroll to human resource management to benefits and compensation.', 'the answer for many businesses maybe to outsource part of their hr functions to third party providers so that they can focus on their core business and also has following benefits-\\n\\nsave money and reduce operating costs\\n\\nallow the company to focus on its core business\\n\\nreduce the number of hr staff and related staff expenses\\n\\nallow hr staff to focus more on strategy\\n\\navoid the costs of major investment in technology\\n\\nimprove metrics/measurement\\n\\n\\n\\n2. organising- hr\\n\\nhr managers should be well aware of organizing everything related to human resource and organisation as organizing is the process of making and arranging everything in the proper manner in order to avoid any confusion and conflicts.', 'giving each member a specific tasks to finish overall objectives of the job given to an employee is the duty of the human resource manager, besides it also to the duty of human resource manager to define task clearly before entrusting job to an employee.', 'hr managers should keep in mind that task entrusted to employees should be matched with their skill set and abilities and it is also lookout of hr managers to give training to employees in the area or subject which is going to be entrusted to employees, otherwise the task entrusted to employees gets failed and defeated.', 'establishing departments and divisions according to the nature of jobs and works in order to improve the efficiency, expertise and speedup the work.', 'establishment of separate divisions and departments would give easy and effective control over employees by the management which would give better results and improve overall performance of the organisation.', 'delegating authority to the members for a good cause and to make employees more responsible towards their job and organisation is a part of employee development.', 'delegating authority to employees makes them to be more responsible towards organisation as there is a principle called authority equals to responsibility, vice versa when you load an employee with responsibilities, he should be given authority so as to fulfil the responsibilities casted upon employee.', 'authority without responsibility and responsibility without authority defeats its purpose.', 'therefore when employees feels responsible and accepts responsibilities, it is a good sign as it makes employees to be engaged in the job.', 'establishing channels of authority and communication is the primary responsibility of any human resource manager which would enable managers to effectively communicate desired goals and objectives of the organisation.', 'having effective communication will avoid conflicts, make staff to understand what exactly they are expected to and also enable the manager to get the things done in time.', 'creating a system to coordinate the works of the members so as to make the employees to work properly and not to cause any conflict in the allocation of the work to the employees.', 'improper and discriminating allotment of the work we will make one or the other employee feel overburden, burnout and can create conflicts among employees among members which is not good for the organisational health and building teams will create teamwork which creates synergy among team that will bring out the best out of them.', '3. staffing - hr\\n\\nstaffing is one of the key functions of human resource management as staffing is the process of employing right people, providing suitable training and placing them in the right job by paying them accordingly and satisfactorily.', 'determining the type of people to be hired should be emphasised as they are the fundamental resource and investment for any organisation.', 'every organisation wants right people with them but they come at a price.', 'employee compensation is a key factor in primary motivating factor to attract talented and retain them in the organisation for a long period of time.', 'compensating the employees is one of the core functions of the human resource management.', 'among all the motivating factors money is very important and primary motivating factor for any employee.', 'providing right compensation for the work done by an employee will not only make an employee feel happy, it will also make the organisation in compliance with employment laws of the land, if compensation is unjustified it amounts to exploitation of employees which is against law.', 'setting performance standards, measuring and evaluating the employees: a performance appraisal is meant to help employees realise their strengths and shortcomings and receive a compensation accordingly.', 'the very purpose of appraising the performance of employees is to evaluate and compensate accordingly.', 'unless organisation sets performance standards to its employees, it cannot compare and measure employees actual performance with the standard performance.', 'hr managers take performance gaps of employees for making decisions on employees with regard to rewarding them with bonus, profit-sharing, stock options and payment of incentives or not.', 'these employee performance gaps will not only be considered for making decisions with regard to compensation but it is also considered for making decisions with regard to initiate corrective actions on said employees, promoting them to higher levels and if any employees performance gaps are high, such employees gets demoted, suspended or sometimes may be discharged from job.', 'counselling the employees as a human resource manager, for understanding and helping people who have technical, personal and emotional or adjustment problems with an objective to reduce them, so that performance of employees are maintained at expected level or even improved upon.', 'recruiting prospective employees and selecting the best ones from them is one of the primary functions of human resource management.', 'recruiting is the process of inviting the people who were willing to join the organisation and selecting best out of them is the crucial process in which various selection tests are conducted.', 'having best people in the organisation will make that organisation is best in all the ways which would create employer brand that will help to attract talented people and also make them to retain in the organisation long period of time.', 'hr metrics: application of formulas for measuring and calculating core hr issues so as to draw exact hr results and current scenario of organisation.', 'the very purpose of hr metrics is to indicate current position and performance of the organisation.', 'core hr issues where hr metrics can be applied are time to fill an employee, cost per hire of an employee, employee absenteeism rate, employee training others, turnover cost, turnover rate, annual turnover of an employee, workers compensation cost for an employee, revenue per employee, return on investment (roi) and yield ratio.', 'annual employee turnover rate = no of employees left x 100\\n\\nbeginning + ending no of employee in a year / 2\\n\\nabsence rate\\n\\n[(number of days absent in month) ã· (average number of employees during mo.)', 'ã— (number of workdays)] ã— 100\\n\\ncost per hire\\n\\n(advertising + agency fees + employee referrals + travel cost of applicants and staff + relocation costs + recruiter pay and benefits) ã· number of hires\\n\\nhealth care costs per employee\\n\\ntotal cost of health care ã· total employees\\n\\nhr expense factor\\n\\nhr expense ã· total operating expense\\n\\nhuman capital roi\\n\\nrevenue âˆ’ (operating expense âˆ’ [compensation cost + benefit cost]) ã· (compensation cost + benefit cost)\\n\\nhuman capital value added\\n\\nrevenue âˆ’ (operating expense âˆ’ ([compensation cost + benefit cost]) ã· total number of fte\\n\\nrevenue factor\\n\\nrevenue ã· total number of fte\\n\\ntime to fill\\n\\ntotal days elapsed to fill requisitions ã· number hired\\n\\ntraining investment factor\\n\\ntotal training cost ã· headcount\\n\\nturnover costs\\n\\ncost to terminate + cost per hire + vacancy cost + learning curve loss\\n\\nturnover rate\\n\\n[number of separations during month ã· average number of employees during month] ã— 100\\n\\nworkersâ€™ compensation cost per employee\\n\\ntotal wc cost for year ã· average number of employees\\n\\n\\n\\n4. directing - hr\\n\\ndirecting is a knowledge, discipline and formal way of communicating to others that what you are expecting from them to do for you or to an organization.', \"unless a hr manager has capability of directing, he / she can't be said as full-fledged hr manager.\", 'when a hr manager has right directing capabilities, it is gives clarity for employees what they are expected to perform, removes confusion in employees and gives clarity of what results are expected by the management from employees.', \"getting work done through subordinates so as to meet the organisation's goals and objectives.\", 'indeed getting work done to others is an art which every human resource manager should possess, for which employee motivation by the human resource management influences and matters a lot.', 'ensuring effective two-way communication for the exchange of information with the subordinates in order to effectively communicate the goals and objectives of the organisation as it plays key role in understanding what the human resource manager or organisation is expecting from employees to perform.', 'miscommunication between employees block the progress and even would lead to conflicts which eventually affects the overall performance of the organisation.', 'motivating subordinates to strive for better performance by way of providing employee recognition, rewards, intrinsic benefits, paid vacations, increments in salary, gifts, any social security benefits to employees and their family members is one of the functions of human resource management.', 'maintaining the group morale by way of fair treatment among employees, being ethical and generous towards employees, management being loyal to its employees and giving priority to employee concerns.', 'it is the responsibility of human resource manager to guide always to its employees, otherwise lack of guidance often kills the morale of employees.', 'training and development programmes not only improve the skills of employees but also boost their morale, thereby making them happy and leading to longer tenures.', 'apart from breaking the monotony in the workplace, training programmes offer employees a learning platform where they are able to master new skills and become more marketable.', '5. controlling - hr\\n\\nhr managers should have the knowledge of controlling all hr related matters, as they should be able to think and decide what should be done and what should not be done and which should be done and which should not be done while dealing with employees.', 'operative function of human resource management\\n\\n1. procurement - hr\\n\\njob analysis is a systematic process of gathering all the data & information pertaining to the job for preparing of job specification which determine the skills, qualifications & traits for job and preparation of job description which describes the duties and responsibilities so as to recruitment and selection of employee, give satisfaction on the job, and feel motivation while doing the job, etc.', 'harry l. wylie defines \"job analysis deals with the anatomy of the job.....this is the complete study of the job embodying every known and determinable factor, including the duties and responsibilities involved in its performance; the conditions under which performance is carried on; the nature of the task; the qualifications required in the worker; and the conditions of employment such as pay, hours, opportunities and privileges\"\\n\\n\\n\\njob design   is the process of deciding on the content of a job in terms of its duties and responsibilities; on the methods to be used in carrying out the job, in terms of techniques, systems and procedures and on the relationships that should exist between the job holder and the superiors, subordinates and colleagues.', 'job enlargement, job enrichment, job rotation, and job simplification are the various techniques used in a job design exercise.', 'job design goal is to minimize physical strain on the worker by structuring physical work environment around the way the human body works.', 'recruitment & selection - recruitment and selection of the human resources for an organisation is the major and basic function of human resource management.', 'human resources planning and recruiting precede the actual selection of people for positions in an organisation.', 'recruiting is the process of inviting qualified job seekers by using different platforms like issuing notification in regular newspapers or employment newspapers which are exclusively meant for employment news and notifications, television media, online and on social networking websites which have become mostly used resources for recruitment and hiring people.', 'there are two major source of recruitment of employees, one is recruitment through internal sources and the other is recruitment through external sources.', 'internal recruitment is the process of inviting or giving chance to the people relating to concern organisation or to the people relating to the existing employees or directly giving opportunity to the existing employees.', 'external recruitment is the process of inviting job seekers who do not belong to or anyway related with an organisation, which simply means inviting outside candidates.', 'subsequently, selection of right person form the pool of candidates by administering various selection tests like preliminarily screening, written tests, oral tests and interviews etc.', 'human resource planning (hrp) may be defined as strategy for acquisition, utilization, improvement and preservation of the human resources of an enterprise.', 'the objective is to place right personnel for the right work and optimum utilization of the existing human resources.', 'hrp exists as a part of the planning process of business.', 'the major activities of human resource planning include:\\n\\nplacement of employee in the job where he exactly fit\\n\\nforecasting (future requirements),\\n\\ninventorying (present strength),\\n\\nanticipating (comparison of present and future requirements) and\\n\\nplanning (necessary programme to meet future requirements).', \"induction & orientation: induction of employee is the first step towards gaining an employees' commitment, induction is aimed at introducing the job and organization to the recruit and him or her to the organization.\", 'in a nutshell, it covers the organizationâ€™s history, philosophy, mission and vision, and the managerial style of the organization.', 'inform the financial benefits and different taxation policies offered.', 'addresses trainings offered, performance expectations, and the work schedules of the organization.', 'educate new employees on the laws, regulations and company policies that applies to their role.', 'highlight the different safety and security aspects related to the work environment.', 'orientation is the planned introduction of new employees to their jobs, co-workers, and the organization so as to alien an employee with their job role.', \"explain the role employees have to play to achieve organization's goals.\", 'portray the organization structure demonstrating the various departments, the people involved and their respective designation.', 'it covers all the information starting from customer profile, to the competitorsâ€™ product and services.', 'socialization is a process of making employees to mingle up with everyone for team-spirit\\n\\n\\n\\n2. development- hr\\n\\ncareer planning and career development; process of establishing personal career objectives by employees and acting in a manner intended to bring them about.', 'hr managers should help their employees in knowing their strengths for placing them in suitable job, guide employees what skills and knowledge should be acquired for attaining higher positions, planning for suitable training for polishing existing skill set and providing good work-life-balance to make balance between career and personal life, after all, every one work for their personal life .', 'career development according to schuler, \"it is an activity to identify the individual needs, abilities and goals and the organizationâ€™s job demands and job rewards and then through well designed programmes of career development matching abilities with demands and rewards\".', 'career development does not guarantee success but without it employees would not be ready for a job when the opportunity arises.', 'hr managers should encourage their employees by providing them suitable opportunities to grow for promoting them to higher jobs according to their skills and knowledge, identify and provide opportunities to employees to learn new skills in the job and compensate accordingly and guiding employees in right career path to develop in their career.', 'top preferences for employees in india\\n\\n* career development\\n\\n* learning and training opportunities\\n\\n* good work-life balance\\n\\n* good relationship with superiors\\n\\nexecutive development ; developing the skills and competencies of those that (will) have executive positions in organisations.', 'employee training and development is the subsystem of an organization and core function of human res']\n"
     ]
    }
   ],
   "source": [
    "print(sent_tokens)"
   ]
  },
  {
   "cell_type": "code",
   "execution_count": 14,
   "metadata": {},
   "outputs": [],
   "source": [
    "def Normalize(text):\n",
    "    #remmove punctuation marks\n",
    "    remove_pun_dict=dict((ord(punct),None) for punct in string.punctuation)\n",
    "    #word tokenization\n",
    "    word_token=nltk.word_tokenize(text.lower().translate(remove_pun_dict))\n",
    "    \n",
    "    #remove ascii\n",
    "    new_words=[]\n",
    "    for word in word_token:\n",
    "        new_word=unicodedata.normalize('NFKD',word).encode('ascii','ignore').decode('utf-8','ignore') #ascii -  convert to bytes, remove non-ascii #decode - back to string\n",
    "        new_words.append(new_word)\n",
    "\n",
    "    #remove tags\n",
    "    rem=[]\n",
    "    for w in new_words:\n",
    "        text=re.sub(\"&lt;/?.*?&gt;\",\"&lt;&gt;\",w)\n",
    "        rem.append(text)\n",
    "\n",
    "    #pos tagging and lemmatization\n",
    "    tag_map = defaultdict(lambda: wn.NOUN)\n",
    "    tag_map['J']=wn.ADJ\n",
    "    tag_map['V']=wn.VERB\n",
    "    tag_map['R']=wn.ADV\n",
    "    lmtzr=WordNetLemmatizer()\n",
    "    lemma_list=[]\n",
    "    rem = [i for i in rem if i]\n",
    "    for token,tag in nltk.pos_tag(rem):\n",
    "        lemma=lmtzr.lemmatize(token,tag_map[tag[0]])\n",
    "        lemma_list.append(lemma)\n",
    "    return lemma_list\n",
    "    "
   ]
  },
  {
   "cell_type": "code",
   "execution_count": 15,
   "metadata": {},
   "outputs": [],
   "source": [
    "welcome_input=('hello', 'hey', 'whats', 'what', 'up')\n",
    "welcome_response=['hi','hey','I am Glad!']\n",
    "\n",
    "def welcome(user_response):\n",
    "    for word in user_response.split():\n",
    "        if word.lower() in welcome_input:\n",
    "            return random.choice(welcome_response)"
   ]
  },
  {
   "cell_type": "code",
   "execution_count": 16,
   "metadata": {},
   "outputs": [],
   "source": [
    "import re\n",
    "import wikipedia as wk\n",
    "from sklearn.feature_extraction.text import TfidfVectorizer\n",
    "from sklearn.metrics.pairwise import linear_kernel\n",
    "\n",
    "# Define a simple tokenizer if needed\n",
    "def normalize(text):\n",
    "    return text.lower().split()  # Simple normalization\n",
    "\n",
    "def generateResponse(user_response):\n",
    "    robo_response = ''\n",
    "    sent_tokens.append(user_response)\n",
    "\n",
    "    TfidfVec = TfidfVectorizer(stop_words='english')  \n",
    "    tfidf = TfidfVec.fit_transform(sent_tokens)\n",
    "\n",
    "    vals = linear_kernel(tfidf[-1], tfidf)\n",
    "    idx = vals.argsort()[0][-2]  # takes the most similar value for the user input\n",
    "    flat = vals.flatten() #converts to 1D array\n",
    "    flat.sort()\n",
    "    req_tfidf = flat[-2]\n",
    "\n",
    "    if req_tfidf == 0 or \"tell me about\" in user_response.lower():\n",
    "        print(\"Checking Wikipedia\")\n",
    "        return wikipedia_data(user_response)\n",
    "    else:\n",
    "        robo_response = sent_tokens[idx]  # Fix: Avoid extra space\n",
    "        return robo_response\n",
    "\n",
    "def wikipedia_data(input_text):\n",
    "    reg_ex = re.search(r'tell me about (.*)', input_text, re.IGNORECASE)\n",
    "    if reg_ex:\n",
    "        topic = reg_ex.group(1).strip()\n",
    "        try:\n",
    "            wiki_summary = wk.summary(topic, sentences=3)\n",
    "            return wiki_summary\n",
    "        except Exception:\n",
    "            return \"Sorry, no content found on Wikipedia.\"\n",
    "    return \"Invalid request.\"\n"
   ]
  },
  {
   "cell_type": "code",
   "execution_count": 18,
   "metadata": {},
   "outputs": [
    {
     "name": "stdout",
     "output_type": "stream",
     "text": [
      "My name is Chatter and I'm a chatbot\n",
      "Chatterbot : I am Glad!\n",
      "Chatterbot : Checking Wikipedia\n",
      "Invalid request.\n",
      "Chatterbot : I am Glad!\n",
      "Chatterbot : Checking Wikipedia\n",
      "Invalid request.\n",
      "Chatterbot : hey\n",
      "Chatterbot : You are welcome..\n"
     ]
    }
   ],
   "source": [
    "flag=True\n",
    "print(\"My name is Chatter and I'm a chatbot\")\n",
    "while(flag==True):\n",
    "    user_response = input()\n",
    "    user_response=user_response.lower()\n",
    "    if(user_response not in ['bye','shutdown','exit', 'quit']):\n",
    "        if(user_response=='thanks' or user_response=='thank you' ):\n",
    "            flag=False\n",
    "            print(\"Chatterbot : You are welcome..\")\n",
    "        else:\n",
    "            if(welcome(user_response)!=None):\n",
    "                print(\"Chatterbot : \"+welcome(user_response))\n",
    "            else:\n",
    "                print(\"Chatterbot : \",end=\"\")\n",
    "                print(generateResponse(user_response))\n",
    "                sent_tokens.remove(user_response)\n",
    "    else:\n",
    "        flag=False\n",
    "        print(\"Chatterbot : Bye!!! \")"
   ]
  },
  {
   "cell_type": "code",
   "execution_count": null,
   "metadata": {},
   "outputs": [],
   "source": []
  }
 ],
 "metadata": {
  "kernelspec": {
   "display_name": "Python (myenv)",
   "language": "python",
   "name": "myenv"
  },
  "language_info": {
   "codemirror_mode": {
    "name": "ipython",
    "version": 3
   },
   "file_extension": ".py",
   "mimetype": "text/x-python",
   "name": "python",
   "nbconvert_exporter": "python",
   "pygments_lexer": "ipython3",
   "version": "3.11.8"
  }
 },
 "nbformat": 4,
 "nbformat_minor": 2
}
